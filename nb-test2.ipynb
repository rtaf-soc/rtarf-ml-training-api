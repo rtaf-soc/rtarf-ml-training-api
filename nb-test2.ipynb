{
 "cells": [
  {
   "cell_type": "code",
   "execution_count": 3,
   "id": "6c170b1f",
   "metadata": {},
   "outputs": [
    {
     "name": "stdout",
     "output_type": "stream",
     "text": [
      "Defaulting to user installation because normal site-packages is not writeable\n",
      "Requirement already satisfied: mlflow==2.1.1 in c:\\users\\sutee.k\\appdata\\roaming\\python\\python39\\site-packages (from -r requirements.txt (line 1)) (2.1.1)\n",
      "Requirement already satisfied: pathlib==1.0.1 in c:\\users\\sutee.k\\appdata\\roaming\\python\\python39\\site-packages (from -r requirements.txt (line 2)) (1.0.1)\n",
      "Requirement already satisfied: lz4==3.1.3 in c:\\users\\sutee.k\\appdata\\roaming\\python\\python39\\site-packages (from -r requirements.txt (line 3)) (3.1.3)\n",
      "Requirement already satisfied: psutil==5.9.0 in c:\\users\\sutee.k\\appdata\\roaming\\python\\python39\\site-packages (from -r requirements.txt (line 4)) (5.9.0)\n",
      "Requirement already satisfied: typing-extensions==4.3.0 in c:\\users\\sutee.k\\appdata\\roaming\\python\\python39\\site-packages (from -r requirements.txt (line 5)) (4.3.0)\n",
      "Requirement already satisfied: cloudpickle==2.2.1 in c:\\users\\sutee.k\\appdata\\roaming\\python\\python39\\site-packages (from -r requirements.txt (line 6)) (2.2.1)\n",
      "Requirement already satisfied: boto3==1.26.125 in c:\\users\\sutee.k\\appdata\\roaming\\python\\python39\\site-packages (from -r requirements.txt (line 7)) (1.26.125)\n",
      "Requirement already satisfied: scipy<2 in c:\\users\\sutee.k\\appdata\\roaming\\python\\python39\\site-packages (from mlflow==2.1.1->-r requirements.txt (line 1)) (1.11.3)\n",
      "Requirement already satisfied: scikit-learn<2 in c:\\users\\sutee.k\\appdata\\roaming\\python\\python39\\site-packages (from mlflow==2.1.1->-r requirements.txt (line 1)) (1.3.1)\n",
      "Requirement already satisfied: databricks-cli<1,>=0.8.7 in c:\\users\\sutee.k\\appdata\\roaming\\python\\python39\\site-packages (from mlflow==2.1.1->-r requirements.txt (line 1)) (0.17.8)\n",
      "Requirement already satisfied: markdown<4,>=3.3 in c:\\users\\sutee.k\\appdata\\roaming\\python\\python39\\site-packages (from mlflow==2.1.1->-r requirements.txt (line 1)) (3.4.4)\n",
      "Requirement already satisfied: requests<3,>=2.17.3 in c:\\users\\sutee.k\\appdata\\roaming\\python\\python39\\site-packages (from mlflow==2.1.1->-r requirements.txt (line 1)) (2.26.0)\n",
      "Requirement already satisfied: querystring-parser<2 in c:\\users\\sutee.k\\appdata\\roaming\\python\\python39\\site-packages (from mlflow==2.1.1->-r requirements.txt (line 1)) (1.2.4)\n",
      "Requirement already satisfied: entrypoints<1 in c:\\users\\sutee.k\\appdata\\roaming\\python\\python39\\site-packages (from mlflow==2.1.1->-r requirements.txt (line 1)) (0.4)\n",
      "Requirement already satisfied: sqlalchemy<2,>=1.4.0 in c:\\users\\sutee.k\\appdata\\roaming\\python\\python39\\site-packages (from mlflow==2.1.1->-r requirements.txt (line 1)) (1.4.49)\n",
      "Requirement already satisfied: importlib-metadata!=4.7.0,<6,>=3.7.0 in c:\\users\\sutee.k\\appdata\\roaming\\python\\python39\\site-packages (from mlflow==2.1.1->-r requirements.txt (line 1)) (5.2.0)\n",
      "Requirement already satisfied: gitpython<4,>=2.1.0 in c:\\users\\sutee.k\\appdata\\roaming\\python\\python39\\site-packages (from mlflow==2.1.1->-r requirements.txt (line 1)) (3.1.37)\n",
      "Requirement already satisfied: matplotlib<4 in c:\\users\\sutee.k\\appdata\\roaming\\python\\python39\\site-packages (from mlflow==2.1.1->-r requirements.txt (line 1)) (3.8.0)\n",
      "Requirement already satisfied: pandas<2 in c:\\users\\sutee.k\\appdata\\roaming\\python\\python39\\site-packages (from mlflow==2.1.1->-r requirements.txt (line 1)) (1.5.3)\n",
      "Requirement already satisfied: Jinja2<4,>=3.0 in c:\\users\\sutee.k\\appdata\\roaming\\python\\python39\\site-packages (from mlflow==2.1.1->-r requirements.txt (line 1)) (3.1.2)\n",
      "Requirement already satisfied: docker<7,>=4.0.0 in c:\\users\\sutee.k\\appdata\\roaming\\python\\python39\\site-packages (from mlflow==2.1.1->-r requirements.txt (line 1)) (6.1.3)\n",
      "Requirement already satisfied: protobuf<5,>=3.12.0 in c:\\users\\sutee.k\\appdata\\roaming\\python\\python39\\site-packages (from mlflow==2.1.1->-r requirements.txt (line 1)) (4.24.3)\n",
      "Requirement already satisfied: shap<1,>=0.40 in c:\\users\\sutee.k\\appdata\\roaming\\python\\python39\\site-packages (from mlflow==2.1.1->-r requirements.txt (line 1)) (0.42.1)\n",
      "Requirement already satisfied: packaging<23 in c:\\users\\sutee.k\\appdata\\roaming\\python\\python39\\site-packages (from mlflow==2.1.1->-r requirements.txt (line 1)) (22.0)\n",
      "Requirement already satisfied: pyarrow<11,>=4.0.0 in c:\\users\\sutee.k\\appdata\\roaming\\python\\python39\\site-packages (from mlflow==2.1.1->-r requirements.txt (line 1)) (10.0.1)\n",
      "Requirement already satisfied: pyyaml<7,>=5.1 in c:\\users\\sutee.k\\appdata\\roaming\\python\\python39\\site-packages (from mlflow==2.1.1->-r requirements.txt (line 1)) (5.4.1)\n",
      "Requirement already satisfied: Flask<3 in c:\\users\\sutee.k\\appdata\\roaming\\python\\python39\\site-packages (from mlflow==2.1.1->-r requirements.txt (line 1)) (2.3.3)\n",
      "Requirement already satisfied: numpy<2 in c:\\users\\sutee.k\\appdata\\roaming\\python\\python39\\site-packages (from mlflow==2.1.1->-r requirements.txt (line 1)) (1.25.2)\n",
      "Requirement already satisfied: sqlparse<1,>=0.4.0 in c:\\users\\sutee.k\\appdata\\roaming\\python\\python39\\site-packages (from mlflow==2.1.1->-r requirements.txt (line 1)) (0.4.4)\n",
      "Requirement already satisfied: click<9,>=7.0 in c:\\users\\sutee.k\\appdata\\roaming\\python\\python39\\site-packages (from mlflow==2.1.1->-r requirements.txt (line 1)) (8.1.7)\n",
      "Requirement already satisfied: pytz<2023 in c:\\users\\sutee.k\\appdata\\roaming\\python\\python39\\site-packages (from mlflow==2.1.1->-r requirements.txt (line 1)) (2022.7.1)\n",
      "Requirement already satisfied: waitress<3 in c:\\users\\sutee.k\\appdata\\roaming\\python\\python39\\site-packages (from mlflow==2.1.1->-r requirements.txt (line 1)) (2.1.2)\n",
      "Requirement already satisfied: alembic<2 in c:\\users\\sutee.k\\appdata\\roaming\\python\\python39\\site-packages (from mlflow==2.1.1->-r requirements.txt (line 1)) (1.12.0)\n",
      "Requirement already satisfied: s3transfer<0.7.0,>=0.6.0 in c:\\users\\sutee.k\\appdata\\roaming\\python\\python39\\site-packages (from boto3==1.26.125->-r requirements.txt (line 7)) (0.6.2)\n",
      "Requirement already satisfied: botocore<1.30.0,>=1.29.125 in c:\\users\\sutee.k\\appdata\\roaming\\python\\python39\\site-packages (from boto3==1.26.125->-r requirements.txt (line 7)) (1.29.165)\n",
      "Requirement already satisfied: jmespath<2.0.0,>=0.7.1 in c:\\users\\sutee.k\\appdata\\roaming\\python\\python39\\site-packages (from boto3==1.26.125->-r requirements.txt (line 7)) (1.0.1)\n",
      "Requirement already satisfied: Mako in c:\\users\\sutee.k\\appdata\\roaming\\python\\python39\\site-packages (from alembic<2->mlflow==2.1.1->-r requirements.txt (line 1)) (1.2.4)\n",
      "Requirement already satisfied: python-dateutil<3.0.0,>=2.1 in c:\\users\\sutee.k\\appdata\\roaming\\python\\python39\\site-packages (from botocore<1.30.0,>=1.29.125->boto3==1.26.125->-r requirements.txt (line 7)) (2.8.2)\n",
      "Requirement already satisfied: urllib3<1.27,>=1.25.4 in c:\\users\\sutee.k\\appdata\\roaming\\python\\python39\\site-packages (from botocore<1.30.0,>=1.29.125->boto3==1.26.125->-r requirements.txt (line 7)) (1.26.16)\n",
      "Requirement already satisfied: colorama in c:\\users\\sutee.k\\appdata\\roaming\\python\\python39\\site-packages (from click<9,>=7.0->mlflow==2.1.1->-r requirements.txt (line 1)) (0.4.4)\n",
      "Requirement already satisfied: pyjwt>=1.7.0 in c:\\users\\sutee.k\\appdata\\roaming\\python\\python39\\site-packages (from databricks-cli<1,>=0.8.7->mlflow==2.1.1->-r requirements.txt (line 1)) (2.8.0)\n",
      "Requirement already satisfied: oauthlib>=3.1.0 in c:\\users\\sutee.k\\appdata\\roaming\\python\\python39\\site-packages (from databricks-cli<1,>=0.8.7->mlflow==2.1.1->-r requirements.txt (line 1)) (3.1.1)\n",
      "Requirement already satisfied: tabulate>=0.7.7 in c:\\users\\sutee.k\\appdata\\roaming\\python\\python39\\site-packages (from databricks-cli<1,>=0.8.7->mlflow==2.1.1->-r requirements.txt (line 1)) (0.9.0)\n",
      "Requirement already satisfied: six>=1.10.0 in c:\\users\\sutee.k\\appdata\\roaming\\python\\python39\\site-packages (from databricks-cli<1,>=0.8.7->mlflow==2.1.1->-r requirements.txt (line 1)) (1.16.0)\n",
      "Requirement already satisfied: pywin32>=304 in c:\\users\\sutee.k\\appdata\\roaming\\python\\python39\\site-packages (from docker<7,>=4.0.0->mlflow==2.1.1->-r requirements.txt (line 1)) (306)\n",
      "Requirement already satisfied: websocket-client>=0.32.0 in c:\\users\\sutee.k\\appdata\\roaming\\python\\python39\\site-packages (from docker<7,>=4.0.0->mlflow==2.1.1->-r requirements.txt (line 1)) (1.2.1)\n",
      "Requirement already satisfied: blinker>=1.6.2 in c:\\users\\sutee.k\\appdata\\roaming\\python\\python39\\site-packages (from Flask<3->mlflow==2.1.1->-r requirements.txt (line 1)) (1.6.2)\n",
      "Requirement already satisfied: itsdangerous>=2.1.2 in c:\\users\\sutee.k\\appdata\\roaming\\python\\python39\\site-packages (from Flask<3->mlflow==2.1.1->-r requirements.txt (line 1)) (2.1.2)\n",
      "Requirement already satisfied: Werkzeug>=2.3.7 in c:\\users\\sutee.k\\appdata\\roaming\\python\\python39\\site-packages (from Flask<3->mlflow==2.1.1->-r requirements.txt (line 1)) (2.3.7)\n",
      "Requirement already satisfied: gitdb<5,>=4.0.1 in c:\\users\\sutee.k\\appdata\\roaming\\python\\python39\\site-packages (from gitpython<4,>=2.1.0->mlflow==2.1.1->-r requirements.txt (line 1)) (4.0.10)\n",
      "Requirement already satisfied: smmap<6,>=3.0.1 in c:\\users\\sutee.k\\appdata\\roaming\\python\\python39\\site-packages (from gitdb<5,>=4.0.1->gitpython<4,>=2.1.0->mlflow==2.1.1->-r requirements.txt (line 1)) (5.0.1)\n",
      "Requirement already satisfied: zipp>=0.5 in c:\\users\\sutee.k\\appdata\\roaming\\python\\python39\\site-packages (from importlib-metadata!=4.7.0,<6,>=3.7.0->mlflow==2.1.1->-r requirements.txt (line 1)) (3.17.0)\n",
      "Requirement already satisfied: MarkupSafe>=2.0 in c:\\users\\sutee.k\\appdata\\roaming\\python\\python39\\site-packages (from Jinja2<4,>=3.0->mlflow==2.1.1->-r requirements.txt (line 1)) (2.1.3)\n",
      "Requirement already satisfied: importlib-resources>=3.2.0 in c:\\users\\sutee.k\\appdata\\roaming\\python\\python39\\site-packages (from matplotlib<4->mlflow==2.1.1->-r requirements.txt (line 1)) (6.1.0)\n",
      "Requirement already satisfied: contourpy>=1.0.1 in c:\\users\\sutee.k\\appdata\\roaming\\python\\python39\\site-packages (from matplotlib<4->mlflow==2.1.1->-r requirements.txt (line 1)) (1.1.1)\n",
      "Requirement already satisfied: fonttools>=4.22.0 in c:\\users\\sutee.k\\appdata\\roaming\\python\\python39\\site-packages (from matplotlib<4->mlflow==2.1.1->-r requirements.txt (line 1)) (4.42.1)\n",
      "Requirement already satisfied: pyparsing>=2.3.1 in c:\\users\\sutee.k\\appdata\\roaming\\python\\python39\\site-packages (from matplotlib<4->mlflow==2.1.1->-r requirements.txt (line 1)) (3.1.1)\n",
      "Requirement already satisfied: cycler>=0.10 in c:\\users\\sutee.k\\appdata\\roaming\\python\\python39\\site-packages (from matplotlib<4->mlflow==2.1.1->-r requirements.txt (line 1)) (0.11.0)\n",
      "Requirement already satisfied: kiwisolver>=1.0.1 in c:\\users\\sutee.k\\appdata\\roaming\\python\\python39\\site-packages (from matplotlib<4->mlflow==2.1.1->-r requirements.txt (line 1)) (1.4.5)\n",
      "Requirement already satisfied: pillow>=6.2.0 in c:\\users\\sutee.k\\appdata\\roaming\\python\\python39\\site-packages (from matplotlib<4->mlflow==2.1.1->-r requirements.txt (line 1)) (10.0.1)\n",
      "Requirement already satisfied: certifi>=2017.4.17 in c:\\users\\sutee.k\\appdata\\roaming\\python\\python39\\site-packages (from requests<3,>=2.17.3->mlflow==2.1.1->-r requirements.txt (line 1)) (2021.5.30)\n",
      "Requirement already satisfied: idna<4,>=2.5 in c:\\users\\sutee.k\\appdata\\roaming\\python\\python39\\site-packages (from requests<3,>=2.17.3->mlflow==2.1.1->-r requirements.txt (line 1)) (3.2)\n",
      "Requirement already satisfied: charset-normalizer~=2.0.0 in c:\\users\\sutee.k\\appdata\\roaming\\python\\python39\\site-packages (from requests<3,>=2.17.3->mlflow==2.1.1->-r requirements.txt (line 1)) (2.0.4)\n",
      "Requirement already satisfied: joblib>=1.1.1 in c:\\users\\sutee.k\\appdata\\roaming\\python\\python39\\site-packages (from scikit-learn<2->mlflow==2.1.1->-r requirements.txt (line 1)) (1.3.2)\n",
      "Requirement already satisfied: threadpoolctl>=2.0.0 in c:\\users\\sutee.k\\appdata\\roaming\\python\\python39\\site-packages (from scikit-learn<2->mlflow==2.1.1->-r requirements.txt (line 1)) (3.2.0)\n",
      "Requirement already satisfied: tqdm>=4.27.0 in c:\\users\\sutee.k\\appdata\\roaming\\python\\python39\\site-packages (from shap<1,>=0.40->mlflow==2.1.1->-r requirements.txt (line 1)) (4.66.1)\n",
      "Requirement already satisfied: slicer==0.0.7 in c:\\users\\sutee.k\\appdata\\roaming\\python\\python39\\site-packages (from shap<1,>=0.40->mlflow==2.1.1->-r requirements.txt (line 1)) (0.0.7)\n",
      "Requirement already satisfied: numba in c:\\users\\sutee.k\\appdata\\roaming\\python\\python39\\site-packages (from shap<1,>=0.40->mlflow==2.1.1->-r requirements.txt (line 1)) (0.58.0)\n",
      "Requirement already satisfied: greenlet!=0.4.17 in c:\\users\\sutee.k\\appdata\\roaming\\python\\python39\\site-packages (from sqlalchemy<2,>=1.4.0->mlflow==2.1.1->-r requirements.txt (line 1)) (2.0.2)\n",
      "Requirement already satisfied: llvmlite<0.42,>=0.41.0dev0 in c:\\users\\sutee.k\\appdata\\roaming\\python\\python39\\site-packages (from numba->shap<1,>=0.40->mlflow==2.1.1->-r requirements.txt (line 1)) (0.41.0)\n",
      "Note: you may need to restart the kernel to use updated packages.\n"
     ]
    },
    {
     "name": "stderr",
     "output_type": "stream",
     "text": [
      "WARNING: You are using pip version 21.2.4; however, version 23.2.1 is available.\n",
      "You should consider upgrading via the 'c:\\Program Files\\Python39\\python.exe -m pip install --upgrade pip' command.\n"
     ]
    }
   ],
   "source": [
    "pip install -r requirements.txt"
   ]
  },
  {
   "cell_type": "code",
   "execution_count": 4,
   "id": "245168b9",
   "metadata": {},
   "outputs": [],
   "source": [
    "import numpy as np\n",
    "import pandas as pd\n",
    "import os\n",
    "import matplotlib.pyplot as plt\n",
    "from sklearn.covariance import EllipticEnvelope\n",
    "from sklearn.ensemble import IsolationForest\n",
    "from sklearn.neighbors import LocalOutlierFactor\n",
    "from sklearn.svm import OneClassSVM\n",
    "from sklearn.compose import make_column_transformer\n",
    "\n",
    "########### mflow ############\n",
    "import mlflow\n",
    "import mlflow.sklearn\n",
    "########### mflow ############\n",
    "\n",
    "from sklearn.preprocessing import OneHotEncoder\n",
    "from sklearn.preprocessing import LabelEncoder\n",
    "\n",
    "from sharelib import *\n",
    "import logging\n",
    "from pathlib import Path\n",
    "import json\n",
    "import glob\n",
    "import sys\n",
    "\n",
    "logging.basicConfig(level=logging.WARN)\n",
    "logger = logging.getLogger(__name__)"
   ]
  },
  {
   "cell_type": "code",
   "execution_count": 5,
   "id": "08f65c26",
   "metadata": {},
   "outputs": [
    {
     "name": "stdout",
     "output_type": "stream",
     "text": [
      "xcount:  1\n"
     ]
    }
   ],
   "source": [
    "if __name__ == \"__main__\":\n",
    "    df = pd.DataFrame()\n",
    "    path_to_json = 'rawdata3' \n",
    "    json_pattern = os.path.join(path_to_json,'*.txt')\n",
    "    file_list = glob.glob(json_pattern)\n",
    "    \n",
    "    xcount = 0\n",
    "\n",
    "    for file in file_list:\n",
    "        xcount = xcount + 1\n",
    "        print(\"xcount: \", xcount)\n",
    "        data = pd.read_json(file, lines=True)\n",
    "        df = pd.concat([df,data], ignore_index = True)"
   ]
  },
  {
   "cell_type": "code",
   "execution_count": 6,
   "id": "6c9d661f",
   "metadata": {},
   "outputs": [
    {
     "name": "stdout",
     "output_type": "stream",
     "text": [
      "{'edgeitems': 3, 'threshold': 1000, 'floatmode': 'maxprec', 'precision': 8, 'suppress': False, 'linewidth': 75, 'nanstr': 'nan', 'infstr': 'inf', 'sign': '-', 'formatter': None, 'legacy': False}\n",
      "{'edgeitems': 3, 'threshold': 9223372036854775807, 'floatmode': 'maxprec', 'precision': 8, 'suppress': False, 'linewidth': 75, 'nanstr': 'nan', 'infstr': 'inf', 'sign': '-', 'formatter': None, 'legacy': False}\n",
      "------------- ads_country_dst'].value_counts() ------------- \n",
      "10.0.0.0-10.255.255.255        8436\n",
      "United States                   856\n",
      "Thailand                        206\n",
      "Austria                         195\n",
      "China                            77\n",
      "Netherlands                      60\n",
      "Brazil                           44\n",
      "Singapore                        22\n",
      "172.16.0.0-172.31.255.255        22\n",
      "Japan                            21\n",
      "United Kingdom                   14\n",
      "France                           13\n",
      "Hong Kong                        12\n",
      "Canada                           11\n",
      "Korea Republic Of                10\n",
      "Sweden                            8\n",
      "Germany                           6\n",
      "Asia Pacific Region               6\n",
      "Australia                         6\n",
      "India                             4\n",
      "Spain                             4\n",
      "Israel                            3\n",
      "Viet Nam                          2\n",
      "192.168.0.0-192.168.255.255       2\n",
      "European Union                    1\n",
      "Russian Federation                1\n",
      "Slovenia                          1\n",
      "Iran Islamic Republic Of          1\n",
      "Poland                            1\n",
      "Malaysia                          1\n",
      "Name: ads_country_dst, dtype: int64\n",
      "------------- ads_country_dst'].value_counts() ------------- \n",
      "Numpy Array [[ 13.72917  100.52389 ]\n",
      " [ 13.2434   100.12212 ]\n",
      " [  1.234    100.34344 ]\n",
      " [  1.234     10.34344 ]\n",
      " [  1.234     10.34344 ]\n",
      " [  1.234     10.34344 ]\n",
      " [  1.234    100.8     ]\n",
      " [  1.234    100.09    ]\n",
      " [  1.234     18.34344 ]\n",
      " [  1.234     19.34994 ]\n",
      " [ 13.675776 100.423432]]\n",
      "Numpy Array Datatype : float64\n"
     ]
    }
   ],
   "source": [
    "    print(np.get_printoptions())\n",
    "\n",
    "    np.set_printoptions(threshold=sys.maxsize)\n",
    "    print(np.get_printoptions())\n",
    "\n",
    "    # ads_country_dst\n",
    "    print(\"------------- ads_country_dst'].value_counts() ------------- \")    \n",
    "    print(df['ads_country_dst'].value_counts())    \n",
    "    print(\"------------- ads_country_dst'].value_counts() ------------- \")    \n",
    "\n",
    "\n",
    "    dff = pd.DataFrame(\n",
    "     [[13.72917, 100.52389],\n",
    "     [13.2434, 100.12212],\n",
    "     [1.234, 100.34344],\n",
    "     [1.234, 10.34344],\n",
    "     [1.234, 10.34344],\n",
    "     [1.234, 10.34344],\n",
    "     [1.234, 100.8],\n",
    "     [1.234, 100.09],\n",
    "     [1.234, 18.34344],\n",
    "     [1.234, 19.34994],\n",
    "     [13.675776, 100.423432]],\n",
    "    columns=['LAT', 'LTT'])\n",
    "    arr = dff.to_numpy()\n",
    "    \n",
    "    print('Numpy Array', arr)\n",
    "    print('Numpy Array Datatype :', arr.dtype)\n",
    "\n",
    "    # df_country = df[\"ads_country_dst\"]\n",
    "    \n",
    "    # df_categories = pd.concat([df_country], axis=1, sort=False,)\n",
    "    \n",
    "    # print(\"-df_categories-\")\n",
    "    # print(df_categories)\n",
    "\n",
    "    # X_label = df_categories.apply(LabelEncoder().fit_transform)\n",
    "    # print(X_label.value_counts()) \n",
    "\n",
    "    # print(\"X_label.to_numpy()\")\n",
    "    # print(X_label.to_numpy())"
   ]
  },
  {
   "cell_type": "code",
   "execution_count": 7,
   "id": "cf7f3320",
   "metadata": {},
   "outputs": [
    {
     "name": "stderr",
     "output_type": "stream",
     "text": [
      "C:\\Users\\sutee.k\\AppData\\Local\\Temp\\ipykernel_25352\\7024830.py:3: UserWarning: No data for colormapping provided via 'c'. Parameters 'cmap' will be ignored\n",
      "  plt.scatter(arr[:, 0], arr[:, 1], c=None, cmap=\"flag\", alpha=0.5)\n"
     ]
    },
    {
     "data": {
      "image/png": "[encoded data removed]",
      "text/plain": [
       "<Figure size 900x700 with 1 Axes>"
      ]
     },
     "metadata": {},
     "output_type": "display_data"
    }
   ],
   "source": [
    "# Plot the data\n",
    "plt.figure(figsize=(9,7))\n",
    "plt.scatter(arr[:, 0], arr[:, 1], c=None, cmap=\"flag\", alpha=0.5)\n",
    "plt.title(\"ads_country_dst\")\n",
    "plt.show()"
   ]
  },
  {
   "cell_type": "code",
   "execution_count": 8,
   "id": "120776d5",
   "metadata": {},
   "outputs": [
    {
     "name": "stdout",
     "output_type": "stream",
     "text": [
      "[[ 13.72917  100.52389 ]\n",
      " [ 13.2434   100.12212 ]\n",
      " [  1.234    100.34344 ]\n",
      " [  1.234     10.34344 ]\n",
      " [  1.234     10.34344 ]\n",
      " [  1.234     10.34344 ]\n",
      " [  1.234    100.8     ]\n",
      " [  1.234    100.09    ]\n",
      " [  1.234     18.34344 ]\n",
      " [  1.234     19.34994 ]\n",
      " [ 13.675776 100.423432]]\n",
      "[ 1 -1  1  1  1  1  1  1  1  1  1]\n"
     ]
    }
   ],
   "source": [
    "\n",
    "print(arr)\n",
    "if_detector = IsolationForest(n_estimators=10, contamination=0.01).fit(arr)\n",
    "if_detect = if_detector.predict(arr)\n",
    "print(if_detect)\n"
   ]
  },
  {
   "cell_type": "code",
   "execution_count": 9,
   "id": "f21ff721",
   "metadata": {},
   "outputs": [
    {
     "name": "stdout",
     "output_type": "stream",
     "text": [
      "env: MLFLOW_TRACKING_URI=http://127.0.0.1:5000\n",
      "Artifact Location: mlflow-artifacts:/891986704585588212\n",
      "artifact uri : mlflow-artifacts:/891986704585588212/ad2144302710471aa5337deca46f6d84/artifacts\n",
      "\u001b[34mSystem information\u001b[0m: Windows 10.0.19045\n",
      "\u001b[34mPython version\u001b[0m: 3.9.7\n",
      "\u001b[34mMLflow version\u001b[0m: 2.1.1\n",
      "\u001b[34mMLflow module location\u001b[0m: C:\\Users\\sutee.k\\AppData\\Roaming\\Python\\Python39\\site-packages\\mlflow\\__init__.py\n",
      "\u001b[34mTracking URI\u001b[0m: http://127.0.0.1:5000\n",
      "\u001b[34mRegistry URI\u001b[0m: http://127.0.0.1:5000\n",
      "\u001b[34mActive experiment ID\u001b[0m: 891986704585588212\n",
      "\u001b[34mActive run ID\u001b[0m: ad2144302710471aa5337deca46f6d84\n",
      "\u001b[34mActive run artifact URI\u001b[0m: mlflow-artifacts:/891986704585588212/ad2144302710471aa5337deca46f6d84/artifacts\n",
      "\u001b[34mMLflow environment variables\u001b[0m: \n",
      "  MLFLOW_TRACKING_URI: http://127.0.0.1:5000\n",
      "\u001b[34mMLflow dependencies\u001b[0m: \n",
      "  Flask: 2.3.3\n",
      "  Jinja2: 3.1.2\n",
      "  alembic: 1.12.0\n",
      "  click: 8.1.7\n",
      "  cloudpickle: 2.2.1\n",
      "  databricks-cli: 0.17.8\n",
      "  docker: 6.1.3\n",
      "  entrypoints: 0.4\n",
      "  gitpython: 3.1.37\n",
      "  importlib-metadata: 5.2.0\n",
      "  markdown: 3.4.4\n",
      "  matplotlib: 3.8.0\n",
      "  numpy: 1.25.2\n",
      "  packaging: 22.0\n",
      "  pandas: 1.5.3\n",
      "  protobuf: 4.24.3\n",
      "  pyarrow: 10.0.1\n",
      "  pytz: 2022.7.1\n",
      "  pyyaml: 5.4.1\n",
      "  querystring-parser: 1.2.4\n",
      "  requests: 2.26.0\n",
      "  scikit-learn: 1.3.1\n",
      "  scipy: 1.11.3\n",
      "  shap: 0.42.1\n",
      "  sqlalchemy: 1.4.49\n",
      "  sqlparse: 0.4.4\n",
      "  waitress: 2.1.2\n"
     ]
    },
    {
     "name": "stderr",
     "output_type": "stream",
     "text": [
      "Registered model 'soc-ml' already exists. Creating a new version of this model...\n",
      "2023/09/30 18:05:16 INFO mlflow.tracking._model_registry.client: Waiting up to 300 seconds for model version to finish creation.                     Model name: soc-ml, version 3\n",
      "Created version '3' of model 'soc-ml'.\n"
     ]
    },
    {
     "name": "stdout",
     "output_type": "stream",
     "text": [
      "Model saved in run ad2144302710471aa5337deca46f6d84\n"
     ]
    }
   ],
   "source": [
    "%set_env MLFLOW_TRACKING_URI=http://127.0.0.1:5000\n",
    "tracking_uri = os.environ[\"MLFLOW_TRACKING_URI\"]\n",
    "# export MLFLOW_TRACKING_USERNAME=user \n",
    "# export MLFLOW_TRACKING_PASSWORD=pwd\n",
    "\n",
    "experiment = mlflow.get_experiment_by_name('soc-ml-unsupervised-dest')\n",
    "experiment_id = experiment.experiment_id\n",
    "\n",
    "with mlflow.start_run(experiment_id=experiment_id):\n",
    "    mlflow.set_tracking_uri(tracking_uri)\n",
    "    \n",
    "    print(\"Artifact Location: {}\".format(experiment.artifact_location))\n",
    "    print(\"artifact uri : \" + mlflow.get_artifact_uri())\n",
    "\n",
    "    mlflow.doctor()\n",
    "\n",
    "    # mlflow.log_metric(\"score_trains\", str(score_train))\n",
    "    # mlflow.log_metric(\"score_test\", str(score_test))\n",
    "    mlflow.sklearn.log_model(if_detector, \"model\", registered_model_name=\"soc-ml\")\n",
    "    print(\"Model saved in run %s\" % mlflow.active_run().info.run_uuid)"
   ]
  },
  {
   "cell_type": "code",
   "execution_count": 10,
   "id": "9151f986",
   "metadata": {},
   "outputs": [
    {
     "name": "stdout",
     "output_type": "stream",
     "text": [
      "Python 3.9.7\n"
     ]
    }
   ],
   "source": [
    "!python --version"
   ]
  },
  {
   "cell_type": "code",
   "execution_count": 11,
   "id": "7d28ca20",
   "metadata": {},
   "outputs": [
    {
     "name": "stderr",
     "output_type": "stream",
     "text": [
      "(Not all processes could be identified, non-owned process info\n",
      " will not be shown, you would have to be root to see it all.)\n"
     ]
    },
    {
     "name": "stdout",
     "output_type": "stream",
     "text": [
      "tcp        0      0 127.0.0.1:5000          0.0.0.0:*               LISTEN      262/python3.9       \n"
     ]
    },
    {
     "name": "stderr",
     "output_type": "stream",
     "text": [
      "your 131072x1 screen size is bogus. expect trouble\n"
     ]
    },
    {
     "name": "stdout",
     "output_type": "stream",
     "text": [
      "UID        PID  PPID  C STIME TTY          TIME CMD\n",
      "root         1     0  0 07:00 ?        00:00:01 /init\n",
      "root         9     1  0 07:00 ?        00:00:00 /init\n",
      "root        10     9  0 07:00 ?        00:00:00 /init\n",
      "sutee       11    10  0 07:00 pts/0    00:00:02 -bash\n",
      "root       170     1  0 07:08 ?        00:00:00 /init\n",
      "root       171   170  0 07:08 ?        00:00:00 /init\n",
      "sutee      172   171  0 07:08 pts/1    00:00:00 -bash\n",
      "sutee      246   172  0 15:37 pts/1    00:00:04 /usr/bin/python3.9 /home/sutee/.local/bin/mlflow ui\n",
      "sutee      262   246  0 15:37 pts/1    00:00:02 /usr/bin/python3.9 /home/sutee/.local/bin/gunicorn -b 127.0.0.1:5000 -w 4 mlflow.server:app\n",
      "sutee      263   262  0 15:37 pts/1    00:00:05 /usr/bin/python3.9 /home/sutee/.local/bin/gunicorn -b 127.0.0.1:5000 -w 4 mlflow.server:app\n",
      "sutee      264   262  0 15:37 pts/1    00:00:06 /usr/bin/python3.9 /home/sutee/.local/bin/gunicorn -b 127.0.0.1:5000 -w 4 mlflow.server:app\n",
      "sutee      265   262  0 15:37 pts/1    00:00:05 /usr/bin/python3.9 /home/sutee/.local/bin/gunicorn -b 127.0.0.1:5000 -w 4 mlflow.server:app\n",
      "sutee      266   262  0 15:37 pts/1    00:00:06 /usr/bin/python3.9 /home/sutee/.local/bin/gunicorn -b 127.0.0.1:5000 -w 4 mlflow.server:app\n",
      "root       387     1  0 16:11 ?        00:00:00 /init\n",
      "root       388   387  0 16:11 ?        00:00:00 /init\n",
      "sutee      389   388  0 16:11 pts/2    00:00:00 -bash\n",
      "root      1307     1  0 18:05 ?        00:00:00 /init\n",
      "root      1308  1307  0 18:05 ?        00:00:00 /init\n",
      "sutee     1309  1308  0 18:05 pts/3    00:00:00 -bash\n",
      "sutee     1317  1309  0 18:05 pts/3    00:00:00 ps -ef\n"
     ]
    }
   ],
   "source": [
    "%%bash\n",
    "netstat -tulpn | grep LISTEN\n",
    "ps -ef"
   ]
  },
  {
   "cell_type": "code",
   "execution_count": 14,
   "id": "53c298ba",
   "metadata": {},
   "outputs": [
    {
     "name": "stdout",
     "output_type": "stream",
     "text": [
      "^C\n"
     ]
    }
   ],
   "source": [
    "!mlflow models serve -m mlflow-artifacts:/891986704585588212/2bc9f20203c34cd2a46054a3ff21815f/artifacts/model -p 1236 --no-conda"
   ]
  },
  {
   "cell_type": "code",
   "execution_count": 11,
   "id": "80b88049",
   "metadata": {},
   "outputs": [
    {
     "data": {
      "image/png": "[encoded data removed]",
      "text/plain": [
       "<Figure size 900x700 with 1 Axes>"
      ]
     },
     "metadata": {},
     "output_type": "display_data"
    }
   ],
   "source": [
    "# Plot the data\n",
    "plt.figure(figsize=(9,7))\n",
    "plt.scatter(arr[:, 0], arr[:, 1], c=if_detect, cmap=\"flag\", alpha=0.5)\n",
    "plt.title(\"IsolationForest\")\n",
    "plt.show()"
   ]
  },
  {
   "cell_type": "code",
   "execution_count": 7,
   "id": "bb1637a3",
   "metadata": {},
   "outputs": [
    {
     "name": "stdout",
     "output_type": "stream",
     "text": [
      "[ 1  1  1  1  1  1  1  1  1 -1  1]\n"
     ]
    }
   ],
   "source": [
    "# Call and fit the Local Outlier Factor detector\n",
    "\n",
    "lof_detector = LocalOutlierFactor(n_neighbors=3, contamination=0.1)\n",
    "lof_detect = lof_detector.fit_predict(arr)\n",
    "print(lof_detect)"
   ]
  },
  {
   "cell_type": "code",
   "execution_count": 8,
   "id": "200d6a9f",
   "metadata": {},
   "outputs": [
    {
     "data": {
      "image/png": "[encoded data removed]",
      "text/plain": [
       "<Figure size 900x700 with 1 Axes>"
      ]
     },
     "metadata": {},
     "output_type": "display_data"
    }
   ],
   "source": [
    "plt.figure(figsize=(9,7))\n",
    "plt.scatter(arr[:, 0], arr[:, 1], c=lof_detect, cmap=\"flag\", alpha=0.5)\n",
    "plt.title(\"LocalOutlierFactor\")\n",
    "plt.show()"
   ]
  },
  {
   "cell_type": "code",
   "execution_count": 9,
   "id": "dc6e78ea",
   "metadata": {},
   "outputs": [
    {
     "name": "stdout",
     "output_type": "stream",
     "text": [
      "OneClassSVM(gamma=0.1, nu=0.1, tol=0.1)\n",
      "[ 1 -1]\n"
     ]
    }
   ],
   "source": [
    "# Call and fit the One Class SVM detector\n",
    "# X_new = np.array([[-1, 2],\n",
    "#                  [-.1, 1]])\n",
    "X_new = np.array([[13.72917, 100.52389],\n",
    "                  [13.72917, 10.52389]])\n",
    "\n",
    "svm_detector = OneClassSVM(tol=0.1, nu=0.1, gamma=0.1).fit(arr)\n",
    "print(svm_detector)\n",
    "svm_detect = svm_detector.predict(X_new)\n",
    "print(svm_detect)"
   ]
  }
 ],
 "metadata": {
  "kernelspec": {
   "display_name": "Python 3 (ipykernel)",
   "language": "python",
   "name": "python3"
  },
  "language_info": {
   "codemirror_mode": {
    "name": "ipython",
    "version": 3
   },
   "file_extension": ".py",
   "mimetype": "text/x-python",
   "name": "python",
   "nbconvert_exporter": "python",
   "pygments_lexer": "ipython3",
   "version": "3.9.7"
  }
 },
 "nbformat": 4,
 "nbformat_minor": 5
}
