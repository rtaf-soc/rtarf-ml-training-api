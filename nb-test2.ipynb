{
 "cells": [
  {
   "cell_type": "code",
   "execution_count": null,
   "id": "6c170b1f",
   "metadata": {},
   "outputs": [],
   "source": [
    "pip install -r requirements.txt"
   ]
  },
  {
   "cell_type": "code",
   "execution_count": 3,
   "id": "245168b9",
   "metadata": {},
   "outputs": [],
   "source": [
    "import numpy as np\n",
    "import pandas as pd\n",
    "import os\n",
    "import matplotlib.pyplot as plt\n",
    "from sklearn.covariance import EllipticEnvelope\n",
    "from sklearn.ensemble import IsolationForest\n",
    "from sklearn.neighbors import LocalOutlierFactor\n",
    "from sklearn.svm import OneClassSVM\n",
    "from sklearn.compose import make_column_transformer\n",
    "\n",
    "from sklearn.preprocessing import OneHotEncoder\n",
    "from sklearn.preprocessing import LabelEncoder\n",
    "\n",
    "from sharelib import *\n",
    "import logging\n",
    "from pathlib import Path\n",
    "import json\n",
    "import glob\n",
    "import sys\n",
    "\n",
    "logging.basicConfig(level=logging.WARN)\n",
    "logger = logging.getLogger(__name__)"
   ]
  },
  {
   "cell_type": "code",
   "execution_count": 4,
   "id": "08f65c26",
   "metadata": {},
   "outputs": [
    {
     "name": "stdout",
     "output_type": "stream",
     "text": [
      "xcount:  1\n"
     ]
    }
   ],
   "source": [
    "if __name__ == \"__main__\":\n",
    "    df = pd.DataFrame()\n",
    "    path_to_json = 'rawdata3' \n",
    "    json_pattern = os.path.join(path_to_json,'*.txt')\n",
    "    file_list = glob.glob(json_pattern)\n",
    "    \n",
    "    xcount = 0\n",
    "\n",
    "    for file in file_list:\n",
    "        xcount = xcount + 1\n",
    "        print(\"xcount: \", xcount)\n",
    "        data = pd.read_json(file, lines=True)\n",
    "        df = pd.concat([df,data], ignore_index = True)"
   ]
  },
  {
   "cell_type": "code",
   "execution_count": 13,
   "id": "6c9d661f",
   "metadata": {},
   "outputs": [
    {
     "name": "stdout",
     "output_type": "stream",
     "text": [
      "{'edgeitems': 3, 'threshold': 9223372036854775807, 'floatmode': 'maxprec', 'precision': 8, 'suppress': False, 'linewidth': 75, 'nanstr': 'nan', 'infstr': 'inf', 'sign': '-', 'formatter': None, 'legacy': False}\n",
      "{'edgeitems': 3, 'threshold': 9223372036854775807, 'floatmode': 'maxprec', 'precision': 8, 'suppress': False, 'linewidth': 75, 'nanstr': 'nan', 'infstr': 'inf', 'sign': '-', 'formatter': None, 'legacy': False}\n",
      "------------- ads_country_dst'].value_counts() ------------- \n",
      "10.0.0.0-10.255.255.255        8436\n",
      "United States                   856\n",
      "Thailand                        206\n",
      "Austria                         195\n",
      "China                            77\n",
      "Netherlands                      60\n",
      "Brazil                           44\n",
      "Singapore                        22\n",
      "172.16.0.0-172.31.255.255        22\n",
      "Japan                            21\n",
      "United Kingdom                   14\n",
      "France                           13\n",
      "Hong Kong                        12\n",
      "Canada                           11\n",
      "Korea Republic Of                10\n",
      "Sweden                            8\n",
      "Germany                           6\n",
      "Asia Pacific Region               6\n",
      "Australia                         6\n",
      "India                             4\n",
      "Spain                             4\n",
      "Israel                            3\n",
      "Viet Nam                          2\n",
      "192.168.0.0-192.168.255.255       2\n",
      "European Union                    1\n",
      "Russian Federation                1\n",
      "Slovenia                          1\n",
      "Iran Islamic Republic Of          1\n",
      "Poland                            1\n",
      "Malaysia                          1\n",
      "Name: ads_country_dst, dtype: int64\n",
      "------------- ads_country_dst'].value_counts() ------------- \n",
      "Numpy Array [[ 13.72917  100.52389 ]\n",
      " [ 13.2434   100.12212 ]\n",
      " [  1.234    100.34344 ]\n",
      " [  1.234     10.34344 ]\n",
      " [  1.234     10.34344 ]\n",
      " [  1.234     10.34344 ]\n",
      " [  1.234    100.8     ]\n",
      " [  1.234    100.09    ]\n",
      " [  1.234     18.34344 ]\n",
      " [  1.234     19.34994 ]\n",
      " [ 13.675776 100.423432]]\n",
      "Numpy Array Datatype : float64\n"
     ]
    }
   ],
   "source": [
    "    print(np.get_printoptions())\n",
    "\n",
    "    np.set_printoptions(threshold=sys.maxsize)\n",
    "    print(np.get_printoptions())\n",
    "\n",
    "    # ads_country_dst\n",
    "    print(\"------------- ads_country_dst'].value_counts() ------------- \")    \n",
    "    print(df['ads_country_dst'].value_counts())    \n",
    "    print(\"------------- ads_country_dst'].value_counts() ------------- \")    \n",
    "\n",
    "\n",
    "    dff = pd.DataFrame(\n",
    "     [[13.72917, 100.52389],\n",
    "     [13.2434, 100.12212],\n",
    "     [1.234, 100.34344],\n",
    "     [1.234, 10.34344],\n",
    "     [1.234, 10.34344],\n",
    "     [1.234, 10.34344],\n",
    "     [1.234, 100.8],\n",
    "     [1.234, 100.09],\n",
    "     [1.234, 18.34344],\n",
    "     [1.234, 19.34994],\n",
    "     [13.675776, 100.423432]],\n",
    "    columns=['LAT', 'LTT'])\n",
    "    arr = dff.to_numpy()\n",
    "    \n",
    "    print('Numpy Array', arr)\n",
    "    print('Numpy Array Datatype :', arr.dtype)\n",
    "\n",
    "    # df_country = df[\"ads_country_dst\"]\n",
    "    \n",
    "    # df_categories = pd.concat([df_country], axis=1, sort=False,)\n",
    "    \n",
    "    # print(\"-df_categories-\")\n",
    "    # print(df_categories)\n",
    "\n",
    "    # X_label = df_categories.apply(LabelEncoder().fit_transform)\n",
    "    # print(X_label.value_counts()) \n",
    "\n",
    "    # print(\"X_label.to_numpy()\")\n",
    "    # print(X_label.to_numpy())"
   ]
  },
  {
   "cell_type": "code",
   "execution_count": 14,
   "id": "cf7f3320",
   "metadata": {},
   "outputs": [
    {
     "name": "stderr",
     "output_type": "stream",
     "text": [
      "C:\\Users\\sutee.k\\AppData\\Local\\Temp\\ipykernel_19428\\527168922.py:3: UserWarning: No data for colormapping provided via 'c'. Parameters 'cmap' will be ignored\n",
      "  plt.scatter(arr[:, 0], arr[:, 1], c=None, cmap=\"flag\", alpha=0.5)\n"
     ]
    },
    {
     "data": {
      "image/png": "[encoded data removed]",
      "text/plain": [
       "<Figure size 900x700 with 1 Axes>"
      ]
     },
     "metadata": {},
     "output_type": "display_data"
    }
   ],
   "source": [
    "# Plot the data\n",
    "plt.figure(figsize=(9,7))\n",
    "plt.scatter(arr[:, 0], arr[:, 1], c=None, cmap=\"flag\", alpha=0.5)\n",
    "plt.title(\"IsolationForest\")\n",
    "plt.show()"
   ]
  },
  {
   "cell_type": "code",
   "execution_count": 15,
   "id": "120776d5",
   "metadata": {},
   "outputs": [
    {
     "name": "stdout",
     "output_type": "stream",
     "text": [
      "[[ 13.72917  100.52389 ]\n",
      " [ 13.2434   100.12212 ]\n",
      " [  1.234    100.34344 ]\n",
      " [  1.234     10.34344 ]\n",
      " [  1.234     10.34344 ]\n",
      " [  1.234     10.34344 ]\n",
      " [  1.234    100.8     ]\n",
      " [  1.234    100.09    ]\n",
      " [  1.234     18.34344 ]\n",
      " [  1.234     19.34994 ]\n",
      " [ 13.675776 100.423432]]\n",
      "[ 1 -1  1  1  1  1  1  1  1  1  1]\n"
     ]
    }
   ],
   "source": [
    "\n",
    "print(arr)\n",
    "if_detector = IsolationForest(n_estimators=10, contamination=0.01).fit(arr)\n",
    "if_detect = if_detector.predict(arr)\n",
    "print(if_detect)"
   ]
  },
  {
   "cell_type": "code",
   "execution_count": 17,
   "id": "80b88049",
   "metadata": {},
   "outputs": [
    {
     "data": {
      "image/png": "[encoded data removed]",
      "text/plain": [
       "<Figure size 900x700 with 1 Axes>"
      ]
     },
     "metadata": {},
     "output_type": "display_data"
    }
   ],
   "source": [
    "# Plot the data\n",
    "plt.figure(figsize=(9,7))\n",
    "plt.scatter(arr[:, 0], arr[:, 1], c=if_detect, cmap=\"flag\", alpha=0.5)\n",
    "plt.title(\"IsolationForest\")\n",
    "plt.show()"
   ]
  },
  {
   "cell_type": "code",
   "execution_count": 22,
   "id": "bb1637a3",
   "metadata": {},
   "outputs": [
    {
     "name": "stdout",
     "output_type": "stream",
     "text": [
      "[ 1  1  1  1  1  1  1  1  1 -1  1]\n"
     ]
    }
   ],
   "source": [
    "# Call and fit the Local Outlier Factor detector\n",
    "\n",
    "lof_detector = LocalOutlierFactor(n_neighbors=3, contamination=0.1)\n",
    "lof_detect = lof_detector.fit_predict(arr)\n",
    "print(lof_detect)"
   ]
  },
  {
   "cell_type": "code",
   "execution_count": 23,
   "id": "200d6a9f",
   "metadata": {},
   "outputs": [
    {
     "data": {
      "image/png": "[encoded data removed]",
      "text/plain": [
       "<Figure size 900x700 with 1 Axes>"
      ]
     },
     "metadata": {},
     "output_type": "display_data"
    }
   ],
   "source": [
    "plt.figure(figsize=(9,7))\n",
    "plt.scatter(arr[:, 0], arr[:, 1], c=lof_detect, cmap=\"flag\", alpha=0.5)\n",
    "plt.title(\"LocalOutlierFactor\")\n",
    "plt.show()"
   ]
  },
  {
   "cell_type": "code",
   "execution_count": 19,
   "id": "dc6e78ea",
   "metadata": {},
   "outputs": [
    {
     "name": "stdout",
     "output_type": "stream",
     "text": [
      "OneClassSVM(gamma=0.1, nu=0.1, tol=0.1)\n",
      "[ 1 -1]\n"
     ]
    }
   ],
   "source": [
    "# Call and fit the One Class SVM detector\n",
    "# X_new = np.array([[-1, 2],\n",
    "#                  [-.1, 1]])\n",
    "X_new = np.array([[13.72917, 100.52389],\n",
    "                  [13.72917, 10.52389]])\n",
    "\n",
    "svm_detector = OneClassSVM(tol=0.1, nu=0.1, gamma=0.1).fit(arr)\n",
    "print(svm_detector)\n",
    "svm_detect = svm_detector.predict(X_new)\n",
    "print(svm_detect)"
   ]
  }
 ],
 "metadata": {
  "kernelspec": {
   "display_name": "Python 3 (ipykernel)",
   "language": "python",
   "name": "python3"
  },
  "language_info": {
   "codemirror_mode": {
    "name": "ipython",
    "version": 3
   },
   "file_extension": ".py",
   "mimetype": "text/x-python",
   "name": "python",
   "nbconvert_exporter": "python",
   "pygments_lexer": "ipython3",
   "version": "3.9.7"
  }
 },
 "nbformat": 4,
 "nbformat_minor": 5
}
